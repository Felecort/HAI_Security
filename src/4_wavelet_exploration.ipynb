{
 "cells": [
  {
   "cell_type": "code",
   "id": "initial_id",
   "metadata": {
    "collapsed": true,
    "ExecuteTime": {
     "end_time": "2024-10-19T19:07:43.069124Z",
     "start_time": "2024-10-19T19:07:42.778520Z"
    }
   },
   "source": "import pandas as pd",
   "outputs": [],
   "execution_count": 1
  },
  {
   "metadata": {
    "ExecuteTime": {
     "end_time": "2024-10-19T19:08:27.805207Z",
     "start_time": "2024-10-19T19:08:27.792982Z"
    }
   },
   "cell_type": "code",
   "source": [
    "dataset_1 = pd.read_pickle('../data/prepared_data/train_1_fi.pkl')\n",
    "dataset_2 = pd.read_pickle('../data/prepared_data/train_2_fi.pkl')"
   ],
   "id": "2282f040cb0866b6",
   "outputs": [],
   "execution_count": 6
  },
  {
   "metadata": {
    "ExecuteTime": {
     "end_time": "2024-10-19T19:08:28.058174Z",
     "start_time": "2024-10-19T19:08:28.053393Z"
    }
   },
   "cell_type": "code",
   "source": "dataset_1.shape, dataset_2.shape",
   "id": "91c0830891e1bda",
   "outputs": [
    {
     "data": {
      "text/plain": [
       "((54000, 7), (230400, 7))"
      ]
     },
     "execution_count": 7,
     "metadata": {},
     "output_type": "execute_result"
    }
   ],
   "execution_count": 7
  },
  {
   "metadata": {},
   "cell_type": "code",
   "outputs": [],
   "execution_count": null,
   "source": "",
   "id": "78d86f166e6700a"
  }
 ],
 "metadata": {
  "kernelspec": {
   "display_name": "Python 3",
   "language": "python",
   "name": "python3"
  },
  "language_info": {
   "codemirror_mode": {
    "name": "ipython",
    "version": 2
   },
   "file_extension": ".py",
   "mimetype": "text/x-python",
   "name": "python",
   "nbconvert_exporter": "python",
   "pygments_lexer": "ipython2",
   "version": "2.7.6"
  }
 },
 "nbformat": 4,
 "nbformat_minor": 5
}
